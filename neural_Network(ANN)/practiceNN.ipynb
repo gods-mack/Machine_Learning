{
 "cells": [
  {
   "cell_type": "code",
   "execution_count": 57,
   "metadata": {},
   "outputs": [
    {
     "name": "stdout",
     "output_type": "stream",
     "text": [
      "before weights \n",
      "[[-0.16595599]\n",
      " [ 0.44064899]\n",
      " [-0.99977125]]\n",
      "original Output \n",
      "[[0]\n",
      " [1]\n",
      " [1]\n",
      " [0]]\n",
      " prdicted output(y^)\n",
      "[[0.02952914]\n",
      " [0.97574069]\n",
      " [0.97934092]\n",
      " [0.02516701]]\n",
      "cost \n",
      "[[-0.02952914]\n",
      " [ 0.02425931]\n",
      " [ 0.02065908]\n",
      " [-0.02516701]]\n"
     ]
    }
   ],
   "source": [
    "import numpy as np \n",
    "import random\n",
    "import math\n",
    "\n",
    "def sigmoid(x):\n",
    "\treturn 1 / (1 + np.exp(-x))\n",
    "\n",
    "\n",
    "def sigmoid_derivative(x):\n",
    "\treturn x * (1-x)\t\n",
    "\n",
    "\n",
    "X = np.array([[0,0,1],\n",
    "\t\t\t  [1,1,1],\n",
    "\t\t\t  [1,0,1],\n",
    "\t\t\t  [0,1,1]])\n",
    "\n",
    "y = np.array([[0,1,1,0]]).T\n",
    "\n",
    "np.random.seed(1)\n",
    "weights = 2*np.random.random((3,1))-1\n",
    "\n",
    "print(\"before weights \")\n",
    "print(weights)\n",
    "\n",
    "for iteration in range(1000):\n",
    "\n",
    "\tinput_layer = X\n",
    "\t\n",
    "\ta = sigmoid(np.dot(input_layer,weights))\t\n",
    "\n",
    "\terror = (y - a)\n",
    "     \n",
    "\tajust = 2*error * sigmoid_dervative(y_pred)\n",
    "\tweights += np.dot(input_layer.T,ajust)\n",
    "\n",
    "\n",
    "print(\"original Output \")    \n",
    "print(y)\n",
    "print(\" prdicted output(y^)\")\n",
    "print(a)\n",
    "print(\"cost \")\n",
    "print(error)\n",
    "\n",
    "\n",
    "\n",
    "\n"
   ]
  },
  {
   "cell_type": "code",
   "execution_count": null,
   "metadata": {},
   "outputs": [],
   "source": []
  },
  {
   "cell_type": "code",
   "execution_count": null,
   "metadata": {},
   "outputs": [],
   "source": []
  }
 ],
 "metadata": {
  "kernelspec": {
   "display_name": "Python 3",
   "language": "python",
   "name": "python3"
  },
  "language_info": {
   "codemirror_mode": {
    "name": "ipython",
    "version": 3
   },
   "file_extension": ".py",
   "mimetype": "text/x-python",
   "name": "python",
   "nbconvert_exporter": "python",
   "pygments_lexer": "ipython3",
   "version": "3.7.1"
  }
 },
 "nbformat": 4,
 "nbformat_minor": 2
}
